{
 "cells": [
  {
   "cell_type": "code",
   "execution_count": 12,
   "metadata": {
    "collapsed": false
   },
   "outputs": [
    {
     "name": "stdout",
     "output_type": "stream",
     "text": [
      "[[   6.53106166   87.18965847 -130.48076685 ...,    0.85694053   -6.3073395\n",
      "   126.53986696]\n",
      " [ -69.08747576  -38.72186505   90.14990225 ...,  -31.09043693\n",
      "    43.76569469    9.85282285]\n",
      " [ -37.65126298   13.50101891   21.38126171 ..., -142.27738388\n",
      "    -0.43253004  -36.96446423]\n",
      " ..., \n",
      " [  15.93843924   11.0692052   -45.73733615 ...,  -77.09348795\n",
      "     2.80658498  -23.09980713]\n",
      " [  72.21976831  -17.94359319   86.80887278 ..., -173.81275417\n",
      "   131.08323092  -22.26840045]\n",
      " [  11.76840346   -0.27156319   65.9815697  ...,   -6.05926962   59.1910404\n",
      "   -16.92352918]]\n",
      "0.622383832932\n"
     ]
    }
   ],
   "source": [
    "import numpy as np\n",
    "import time\n",
    "\n",
    "n = 4096\n",
    "\n",
    "A = np.random.randn(n,n)\n",
    "B = np.random.randn(n,n)\n",
    "C = np.zeros((n,n))\n",
    "\n",
    "start = time.time()\n",
    "C = np.matmul(A,B)\n",
    "end = time.time()\n",
    "print C\n",
    "print end - start"
   ]
  },
  {
   "cell_type": "code",
   "execution_count": null,
   "metadata": {
    "collapsed": true
   },
   "outputs": [],
   "source": []
  }
 ],
 "metadata": {
  "kernelspec": {
   "display_name": "Python 2",
   "language": "python",
   "name": "python2"
  },
  "language_info": {
   "codemirror_mode": {
    "name": "ipython",
    "version": 2
   },
   "file_extension": ".py",
   "mimetype": "text/x-python",
   "name": "python",
   "nbconvert_exporter": "python",
   "pygments_lexer": "ipython2",
   "version": "2.7.6"
  }
 },
 "nbformat": 4,
 "nbformat_minor": 2
}
