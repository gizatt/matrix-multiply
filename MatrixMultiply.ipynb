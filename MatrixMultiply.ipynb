{
 "cells": [
  {
   "cell_type": "code",
   "execution_count": 15,
   "metadata": {
    "collapsed": false,
    "deletable": true,
    "editable": true
   },
   "outputs": [
    {
     "name": "stdout",
     "output_type": "stream",
     "text": [
      "[[ -25.63621703   -6.29877154   31.13970053 ...,    7.78416999\n",
      "   -18.96690948   -2.29211934]\n",
      " [  33.62780388  -64.79589425   25.06287687 ...,  -61.79585787   36.5720354\n",
      "   -57.40916503]\n",
      " [  62.30446348   38.37332365   11.62492783 ...,   51.21674078\n",
      "   -46.46041961  -25.35382635]\n",
      " ..., \n",
      " [ -15.10235293    5.90517978  -33.64983815 ...,   61.26841483\n",
      "    47.51628307   63.40573939]\n",
      " [ -12.34780807  -16.88046635   23.79899619 ...,    7.37264821\n",
      "    -0.15788896  -14.84389508]\n",
      " [  61.71994312  -29.93720868   70.23580917 ...,  110.90707891\n",
      "  -128.71162111  121.21605971]]\n",
      "0.606847047806\n"
     ]
    }
   ],
   "source": [
    "import numpy as np\n",
    "import time\n",
    "\n",
    "n = 4096\n",
    "\n",
    "A = np.random.randn(n,n)\n",
    "B = np.random.randn(n,n)\n",
    "C = np.zeros((n,n))\n",
    "\n",
    "start = time.time()\n",
    "C = np.matmul(A,B)\n",
    "end = time.time()\n",
    "print C\n",
    "numpy_time = end - start\n",
    "print numpy_time"
   ]
  },
  {
   "cell_type": "code",
   "execution_count": 16,
   "metadata": {
    "collapsed": false,
    "deletable": true,
    "editable": true
   },
   "outputs": [
    {
     "name": "stdout",
     "output_type": "stream",
     "text": [
      "\n",
      "-2.6095e+01 -5.7584e+01  3.4569e+01  ...   8.6941e+00 -8.4305e+01 -1.4075e+01\n",
      " 2.6656e+01 -7.2593e+01 -5.5777e+01  ...  -6.7034e+01  1.1717e+02 -5.0623e+00\n",
      " 4.4937e+01  2.7942e+01 -1.2185e+01  ...   8.4949e+01  2.0113e+01  3.3131e+00\n",
      "                ...                   ⋱                   ...                \n",
      "-3.9992e+00 -5.4313e+01  1.6885e+01  ...   7.4160e+00 -3.9058e+01 -2.1928e+01\n",
      "-4.2237e+01  6.7830e+00  6.9894e+00  ...   8.1702e+01 -2.9019e+01 -3.2663e+01\n",
      " 5.1142e+01  6.8491e+01 -7.1639e+01  ...  -1.1157e+02  2.6390e+01  3.5799e+01\n",
      "[torch.cuda.FloatTensor of size 4096x4096 (GPU 0)]\n",
      "\n",
      "0.000103950500488\n"
     ]
    }
   ],
   "source": [
    "import torch\n",
    "\n",
    "A = torch.randn(n,n).cuda()\n",
    "B = torch.randn(n,n).cuda()\n",
    "C = torch.zeros(n,n).cuda()\n",
    "\n",
    "start = time.time()\n",
    "C = A.mm(B)\n",
    "end = time.time()\n",
    "print C\n",
    "torch_time = end - start\n",
    "print torch_time"
   ]
  },
  {
   "cell_type": "code",
   "execution_count": 17,
   "metadata": {
    "collapsed": false
   },
   "outputs": [
    {
     "name": "stdout",
     "output_type": "stream",
     "text": [
      "Torch is faster than numpy by 5837.84633028 X \n"
     ]
    }
   ],
   "source": [
    "print \"Torch is faster than numpy by\", numpy_time/torch_time, \"X \" "
   ]
  },
  {
   "cell_type": "code",
   "execution_count": null,
   "metadata": {
    "collapsed": true
   },
   "outputs": [],
   "source": []
  }
 ],
 "metadata": {
  "kernelspec": {
   "display_name": "Python 2",
   "language": "python",
   "name": "python2"
  },
  "language_info": {
   "codemirror_mode": {
    "name": "ipython",
    "version": 2
   },
   "file_extension": ".py",
   "mimetype": "text/x-python",
   "name": "python",
   "nbconvert_exporter": "python",
   "pygments_lexer": "ipython2",
   "version": "2.7.6"
  }
 },
 "nbformat": 4,
 "nbformat_minor": 2
}
